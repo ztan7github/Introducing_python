{
 "cells": [
  {
   "attachments": {},
   "cell_type": "markdown",
   "metadata": {},
   "source": [
    "### Notes and exercises from book Introducing Python (UC Berkeley MIDS textbook)"
   ]
  },
  {
   "cell_type": "markdown",
   "metadata": {},
   "source": [
    "Chapter 3"
   ]
  },
  {
   "cell_type": "code",
   "execution_count": 1,
   "metadata": {},
   "outputs": [
    {
     "name": "stdout",
     "output_type": "stream",
     "text": [
      "dict_items([('dog', 'chien'), ('cat', 'chat'), ('walrus', 'morse')])\n",
      "morse\n",
      "{'chien': 'dog', 'chat': 'cat', 'morse': 'walrus'}\n",
      "dog\n",
      "{'dog', 'cat', 'walrus'}\n"
     ]
    }
   ],
   "source": [
    "# 3.10 - 3.14\n",
    "\n",
    "e2f = {'dog':'chien', 'cat':'chat', 'walrus':'morse'}\n",
    "print(e2f.items())\n",
    "\n",
    "print(e2f['walrus'])\n",
    "\n",
    "f2e = {}\n",
    "for eng, french in e2f.items():\n",
    "    f2e[french] = eng\n",
    "print(f2e)\n",
    "\n",
    "print(f2e['chien'])\n",
    "\n",
    "print(set(e2f.keys()))"
   ]
  },
  {
   "cell_type": "code",
   "execution_count": 2,
   "metadata": {},
   "outputs": [
    {
     "name": "stdout",
     "output_type": "stream",
     "text": [
      "dict_keys(['animals', 'plants', 'other'])\n",
      "dict_keys(['cats', 'octopi', 'emus'])\n",
      "['cats', 'octopi', 'emus']\n",
      "['Henri', 'Grumpy', 'Lucy']\n"
     ]
    }
   ],
   "source": [
    "# 3.15\n",
    "life = {'animals':{'cats':['Henri','Grumpy','Lucy'],'octopi':{},'emus':{}}, 'plants':{}, 'other':{}}\n",
    "print(life.keys())\n",
    "\n",
    "print(life['animals'].keys())\n",
    "print(list(life['animals'].keys()))\n",
    "\n",
    "print(life['animals']['cats'])"
   ]
  },
  {
   "cell_type": "markdown",
   "metadata": {},
   "source": [
    "Chapter 4"
   ]
  },
  {
   "cell_type": "code",
   "execution_count": 3,
   "metadata": {},
   "outputs": [
    {
     "name": "stdout",
     "output_type": "stream",
     "text": [
      "required1 is: david\n",
      "required2 is: 14\n",
      "*args: allow the function to take any number of positional arguments into a tuple  ('1989', 'new york city', 'seattle', 'shanghai')\n",
      "**kwargs: two asterisks groups keyword arguments into a dictionary.  {'wine': 'merlot', 'entree': 'mutton', 'dessert': 'macaroon'}\n"
     ]
    }
   ],
   "source": [
    "# gather positional arguments with *args\n",
    "# gather keyword arguments with **kwargs\n",
    "def print_more(required1, required2, *args, **kwargs):\n",
    "    print('required1 is:', required1)\n",
    "    print('required2 is:', required2)\n",
    "    print('*args: allow the function to take any number of positional arguments into a tuple ', args)\n",
    "    print('**kwargs: two asterisks groups keyword arguments into a dictionary. ', kwargs)\n",
    "    \n",
    "print_more('david', 14, '1989', 'new york city', 'seattle', 'shanghai', wine='merlot', entree='mutton', dessert='macaroon')"
   ]
  },
  {
   "cell_type": "code",
   "execution_count": 4,
   "metadata": {},
   "outputs": [
    {
     "name": "stdout",
     "output_type": "stream",
     "text": [
      "1 4\n",
      "('tan', 6, 5)\n",
      "True\n",
      "{'param1': 5, 'param2': 'bellevue'}\n"
     ]
    }
   ],
   "source": [
    "def arg_printer(a, b, *args, option=True, **kwargs):\n",
    "   print(a, b)\n",
    "   print(args)\n",
    "   print(option)\n",
    "   print(kwargs)\n",
    "arg_printer(1, 4, 'tan',6, 5, param1=5, param2='bellevue')\n"
   ]
  },
  {
   "cell_type": "code",
   "execution_count": 5,
   "metadata": {},
   "outputs": [
    {
     "data": {
      "text/plain": [
       "10"
      ]
     },
     "execution_count": 5,
     "metadata": {},
     "output_type": "execute_result"
    }
   ],
   "source": [
    "def sum_args(*args):\n",
    "    return sum(args)\n",
    "\n",
    "def run_with_positional_args(func, *args):\n",
    "    return func(*args)\n",
    "\n",
    "run_with_positional_args(sum_args, 1,2,3,4)"
   ]
  },
  {
   "cell_type": "code",
   "execution_count": 6,
   "metadata": {},
   "outputs": [
    {
     "name": "stdout",
     "output_type": "stream",
     "text": [
      "81\n",
      "start\n",
      "hello python!\n",
      "end\n"
     ]
    }
   ],
   "source": [
    "# decorator function:\n",
    "def square_it(func):\n",
    "    def new_function(*args, **kwargs):\n",
    "        result = func(*args, **kwargs)\n",
    "        return result * result\n",
    "    return new_function\n",
    "\n",
    "\n",
    "# use a decorator syntax to apply the square_it function to the add_ints function.\n",
    "# This decorator will modify the behavior of add_ints by calling it through new_function that returns the square of the sum of its arguments.\n",
    "# When the add_ints function is called with arguments 4 and 5, the decorator square_it modifies its behavior to return (4+5)^2 i.e. 81.\n",
    "@square_it \n",
    "def add_ints(a,b):\n",
    "    return a + b\n",
    "print(add_ints(4,5))\n",
    "\n",
    "\n",
    "\n",
    "# 4.10\n",
    "def test(func):\n",
    "    def new_func(*args, **kwargs):\n",
    "        print('start')\n",
    "        result = func(*args, **kwargs)\n",
    "        print('end')\n",
    "        return result\n",
    "    return new_func\n",
    "\n",
    "@test\n",
    "def greetings():\n",
    "    print(\"hello python!\")\n",
    "greetings()"
   ]
  },
  {
   "cell_type": "code",
   "execution_count": 7,
   "metadata": {},
   "outputs": [
    {
     "name": "stdout",
     "output_type": "stream",
     "text": [
      "too low\n",
      "too low\n",
      "too low\n",
      "too low\n",
      "too low\n",
      "too low\n",
      "found it!\n",
      "[0, 2, 4, 6, 8]\n"
     ]
    }
   ],
   "source": [
    "# 4.2, 4.4\n",
    "guess_me = 7\n",
    "start = 1\n",
    "\n",
    "while True:\n",
    "    if start < guess_me:\n",
    "        print(\"too low\")\n",
    "    elif start == guess_me:\n",
    "        print(\"found it!\")\n",
    "        break\n",
    "    else:\n",
    "        print(\"oops\")\n",
    "        break\n",
    "\n",
    "    start += 1\n",
    "\n",
    "print([i for i in range(10) if i % 2 == 0])"
   ]
  },
  {
   "cell_type": "code",
   "execution_count": 8,
   "metadata": {},
   "outputs": [
    {
     "name": "stdout",
     "output_type": "stream",
     "text": [
      "{0: 0, 1: 1, 2: 4, 3: 9, 4: 16, 5: 25, 6: 36, 7: 49, 8: 64, 9: 81}\n",
      "{'l': 1, 'e': 2, 't': 2, 'r': 1, 's': 1} \n",
      "\n",
      "{'r', 'e', 's', 't', 'l'}\n",
      "{1, 3, 5, 7, 9}\n",
      "Got  0\n",
      "Got  1\n",
      "Got  2\n",
      "Got  3\n",
      "Got  4\n"
     ]
    }
   ],
   "source": [
    "# 4.5 use a dictionary comprehension to create the dictionary squares. use range(10) to return the keys, and use the \n",
    "# square of each key as its value\n",
    "print({key: key**2 for key in range(10)})\n",
    "\n",
    "word = 'letters'\n",
    "letter_counts = {i: word.count(i) for i in word}\n",
    "print(letter_counts,'\\n')\n",
    "print(set(word))\n",
    "\n",
    "print(set([i for i in range(10) if i % 2 == 1]))\n",
    "\n",
    "#generator comprehension\n",
    "number_thing = (num for num in range(5))\n",
    "for num in number_thing:\n",
    "    print('Got ',num)\n"
   ]
  },
  {
   "cell_type": "code",
   "execution_count": 9,
   "metadata": {},
   "outputs": [
    {
     "data": {
      "text/plain": [
       "{'Creature of Habit': 'A num turns into a mon ster',\n",
       " 'Crewel Fate': 'A haunted yarn shop'}"
      ]
     },
     "execution_count": 9,
     "metadata": {},
     "output_type": "execute_result"
    }
   ],
   "source": [
    "# 4.12\n",
    "# This code uses the zip() function to create pairs of elements from the titles and plots lists and \n",
    "# then uses the dict() function to convert them into a dictionary.\n",
    "titles = ['Creature of Habit', 'Crewel Fate']\n",
    "plots = ['A num turns into a mon ster', 'A haunted yarn shop']\n",
    "\n",
    "dict(zip(titles,plots))"
   ]
  },
  {
   "cell_type": "markdown",
   "metadata": {},
   "source": [
    "Chapter 5"
   ]
  },
  {
   "cell_type": "code",
   "execution_count": 10,
   "metadata": {},
   "outputs": [
    {
     "name": "stdout",
     "output_type": "stream",
     "text": [
      "spam 3\n",
      "eggs 1\n",
      "defaultdict(<class 'int'>, {'spam': 3, 'eggs': 1})\n"
     ]
    }
   ],
   "source": [
    "# defaultdict()\n",
    "from collections import defaultdict\n",
    "\n",
    "# defaultdict() is a subclass of the built-in dict class, \n",
    "# and it overrides one method to provide a default value for a nonexistent key when accessing a dictionary. \n",
    "# In the example, the default value is set to int, which means that the default value for a nonexistent key will be 0.\n",
    "\n",
    "# The code creates a dictionary food_counter using defaultdict(int) and then adds the count of each food item to it. \n",
    "# The loop iterates over the list of foods and increments the count for each food item in the food_counter dictionary.\n",
    "\n",
    "food_counter = defaultdict(int)\n",
    "for food in ['spam','spam','eggs','spam']:\n",
    "    food_counter[food] += 1\n",
    "\n",
    "for food, count in food_counter.items():\n",
    "    print(food, count)\n",
    "print(food_counter)"
   ]
  },
  {
   "cell_type": "code",
   "execution_count": 11,
   "metadata": {},
   "outputs": [
    {
     "name": "stdout",
     "output_type": "stream",
     "text": [
      "{'hydrogen': 1, 'helium': 2}\n",
      "12\n",
      "{'hydrogen': 1, 'helium': 2, 'Carbon': 12}\n"
     ]
    }
   ],
   "source": [
    "# setdefault()\n",
    "periodic_table = {'hydrogen': 1, 'helium': 2}\n",
    "print(periodic_table)\n",
    "\n",
    "# The setdefault() method takes two arguments: the key to look up in the dictionary, \n",
    "# and the default value to return if the key is not found. \n",
    "# If the key is not found, the method adds the key to the dictionary with the default value and returns it. \n",
    "# If the key is found, the method returns the corresponding value.\n",
    "\n",
    "# In this example, the dictionary periodic_table initially contains the key-value pairs {'hydrogen': 1, 'helium': 2}.\n",
    "\n",
    "# The next line of code calls setdefault() with the key 'Carbon' and the default value 12. \n",
    "# Since 'Carbon' is not already in the dictionary, \n",
    "# the method adds the key-value pair {'Carbon': 12} to the dictionary and returns the value 12. The variable carbon is set to 12.\n",
    "\n",
    "carbon = periodic_table.setdefault('Carbon', 12)\n",
    "print(carbon)\n",
    "print(periodic_table)"
   ]
  },
  {
   "cell_type": "code",
   "execution_count": 12,
   "metadata": {},
   "outputs": [
    {
     "name": "stdout",
     "output_type": "stream",
     "text": [
      "Moe\n",
      "John\n",
      "Andrew\n",
      "Moe\n",
      "John\n",
      "Andrew\n"
     ]
    }
   ],
   "source": [
    "# OrderedDict()\n",
    "from collections import OrderedDict\n",
    "# A regular dictionary in Python does not maintain the order of the items that are added to it. \n",
    "# However, the OrderedDict() class is a subclass of the dict class that maintains the order in which items are added.\n",
    "\n",
    "# In this code, the first dictionary quotes contains three key-value pairs in no particular order. \n",
    "# The loop for i in quotes: iterates over the keys of the dictionary in the order they happen to be stored in memory, \n",
    "# which may not be the same order they were added to the dictionary.\n",
    "quotes = {'Moe':'happy',\n",
    "          'John':'sad',\n",
    "          'Andrew':'angry'}\n",
    "for i in quotes:\n",
    "    print(i)\n",
    "\n",
    "# The second dictionary quotes_ordered is created as an OrderedDict() with the same three key-value pairs. \n",
    "# The loop for i in quotes_ordered: also iterates over the keys of the dictionary, \n",
    "# but this time they are guaranteed to be in the order they were added to the dictionary.\n",
    "quotes_ordered = OrderedDict([('Moe','happy'),\n",
    "          ('John','sad'),\n",
    "          ('Andrew','angry')])\n",
    "for i in quotes_ordered:\n",
    "    print(i)"
   ]
  },
  {
   "cell_type": "code",
   "execution_count": 13,
   "metadata": {},
   "outputs": [
    {
     "name": "stdout",
     "output_type": "stream",
     "text": [
      "Counter({'bread': 2, 'milk': 1, 'bacon': 1, 'eggs': 1, 'fruit': 1})\n",
      "[('bread', 2), ('milk', 1), ('bacon', 1), ('eggs', 1), ('fruit', 1)]\n",
      "[('bread', 2), ('milk', 1)]\n"
     ]
    }
   ],
   "source": [
    "# Counter()\n",
    "from collections import Counter\n",
    "\n",
    "# The Counter class is used to count the occurrences of items in a list or any other iterable. \n",
    "# It returns a dictionary-like object that contains the count of each item.\n",
    "\n",
    "breakfast = ['bread','milk','bacon','bread','eggs','fruit']\n",
    "breakfast_counter = Counter(breakfast)\n",
    "print(breakfast_counter)\n",
    "print(breakfast_counter.most_common())\n",
    "print(breakfast_counter.most_common(2))"
   ]
  },
  {
   "cell_type": "code",
   "execution_count": 14,
   "metadata": {},
   "outputs": [
    {
     "name": "stdout",
     "output_type": "stream",
     "text": [
      "[1, 2, 3]\n",
      "3\n",
      "2\n",
      "1\n"
     ]
    }
   ],
   "source": [
    "# stack: last-in, first-out (LIFO) order\n",
    "stack = []  # Create an empty stack\n",
    "stack.append(1)  # Add an item to the top of the stack\n",
    "stack.append(2)  # Add another item to the top of the stack\n",
    "stack.append(3)  # Add another item to the top of the stack\n",
    "print(stack)\n",
    "print(stack.pop())  # Remove and print the top item from the stack (3)\n",
    "print(stack.pop())  # Remove and print the top item from the stack (2)\n",
    "print(stack.pop())  # Remove and print the top item from the stack (1)\n"
   ]
  },
  {
   "cell_type": "code",
   "execution_count": 15,
   "metadata": {},
   "outputs": [
    {
     "name": "stdout",
     "output_type": "stream",
     "text": [
      "deque([1, 2, 3])\n",
      "1\n",
      "2\n",
      "3\n"
     ]
    }
   ],
   "source": [
    "# queue: first-in, first-out (FIFO) order\n",
    "from collections import deque\n",
    "\n",
    "queue = deque()  # Create an empty queue\n",
    "queue.append(1)  # Add an item to the back of the queue\n",
    "queue.append(2)  # Add another item to the back of the queue\n",
    "queue.append(3)  # Add another item to the back of the queue\n",
    "print(queue)\n",
    "print(queue.popleft())  # Remove and print the front item from the queue (1)\n",
    "print(queue.popleft())  # Remove and print the front item from the queue (2)\n",
    "print(queue.popleft())  # Remove and print the front item from the queue (3)\n"
   ]
  },
  {
   "cell_type": "code",
   "execution_count": 16,
   "metadata": {},
   "outputs": [
    {
     "name": "stdout",
     "output_type": "stream",
     "text": [
      "True True True False\n",
      "True True True False\n"
     ]
    }
   ],
   "source": [
    "# Stack + Queue == deque\n",
    "from collections import deque\n",
    "def palindrome(word):\n",
    "    dq = deque(word)\n",
    "\n",
    "    while len(dq) > 1:\n",
    "        if dq.popleft() != dq.pop():\n",
    "            return False\n",
    "\n",
    "    return True\n",
    "\n",
    "print(palindrome('a'), palindrome('racecar'), palindrome(''), palindrome('racecdar'))\n",
    "\n",
    "# below is another method to check if a palindrome word. It checks if the \"word\" is equal to its reverse\n",
    "def another_palindrome(word):\n",
    "    return word == word[::-1]\n",
    "print(another_palindrome('a'), another_palindrome('racecar'), another_palindrome(''), another_palindrome('racecdar'))"
   ]
  },
  {
   "cell_type": "code",
   "execution_count": 9,
   "metadata": {},
   "outputs": [
    {
     "name": "stdout",
     "output_type": "stream",
     "text": [
      "1\n",
      "2\n",
      "a\n",
      "b\n",
      "\n",
      "\n",
      "1 3 6 10 \n",
      "\n",
      "1 2 6 24 "
     ]
    }
   ],
   "source": [
    "# itertools\n",
    "import itertools\n",
    "\n",
    "# chain() runs through its arguments as though they were a single iterable.\n",
    "# The chain() function is used to combine multiple iterables into a single iterable. \n",
    "# In this code, it combines two lists [1, 2] and ['a', 'b'] and iterates through them using a for loop.\n",
    "for item in itertools.chain([1,2],['a','b']):\n",
    "    print(item)\n",
    "print('\\n')\n",
    "\n",
    "# The accumulate() function is used to generate a sequence of accumulated values. \n",
    "# By default, it calculates the running sum of the iterable. \n",
    "# In the first accumulate() function call, it generates the sequence [1, 3, 6, 10], which are the running sums of the iterable [1, 2, 3, 4]. \n",
    "for item in itertools.accumulate([1,2,3,4]):\n",
    "    print(item, end = ' ')\n",
    "print('\\n')\n",
    "\n",
    "# In the second accumulate() function call, a custom function multiply() is used to calculate the running product of the iterable [1, 2, 3, 4]. \n",
    "# The generated sequence is [1, 2, 6, 24], which are the running products of the iterable.\n",
    "def multiply(a, b):\n",
    "    return a * b\n",
    "for item in itertools.accumulate([1,2,3,4], multiply):\n",
    "    print(item, end = ' ')"
   ]
  },
  {
   "cell_type": "code",
   "execution_count": 18,
   "metadata": {},
   "outputs": [
    {
     "name": "stdout",
     "output_type": "stream",
     "text": [
      "defaultdict(<class 'list'>, {'a': ['something for a']})\n"
     ]
    }
   ],
   "source": [
    "# 5.7\n",
    "dict_of_lists = defaultdict(list)\n",
    "dict_of_lists['a'].append('something for a')\n",
    "print(dict_of_lists)"
   ]
  },
  {
   "cell_type": "code",
   "execution_count": 19,
   "metadata": {},
   "outputs": [
    {
     "name": "stdout",
     "output_type": "stream",
     "text": [
      "['dee', 'doh', 'doo', 'hi', 'the']\n",
      "{3: {'doo', 'doh', 'the', 'dee'}, 2: {'hi'}} | {'doo', 'doh', 'the', 'dee'}\n"
     ]
    }
   ],
   "source": [
    "# exercise \n",
    "word_freqs = {\n",
    "    'hi': 0.15,\n",
    "    'doh': 0.02,\n",
    "    'dee': 0.022,\n",
    "    'doo': 0.095,\n",
    "    'the': 0.2\n",
    "}\n",
    "print(sorted(word_freqs.keys()))\n",
    "\n",
    "d = {}\n",
    "for w in sorted(word_freqs.keys()):\n",
    "    if len(w) in d:\n",
    "        d[len(w)].add(w)\n",
    "    else:\n",
    "        d[len(w)] = {w}\n",
    "print(d, '|',  d[3])"
   ]
  },
  {
   "cell_type": "code",
   "execution_count": 20,
   "metadata": {},
   "outputs": [
    {
     "name": "stdout",
     "output_type": "stream",
     "text": [
      "<class '__main__.Thing'>\n",
      "<__main__.Thing object at 0x7fc567533dc0>\n",
      "abc\n",
      "xyz\n"
     ]
    }
   ],
   "source": [
    "# 6.1, 6.2, 6.3 simple example\n",
    "class Thing():\n",
    "    pass\n",
    "print(Thing)\n",
    "\n",
    "example = Thing() # creates an object (or instance) of the \"Thing\" class and assigns it to the variable \"example\".\n",
    "print(example)\n",
    "\n",
    "class Thing2:\n",
    "    letters = 'abc' # assign 'abc' to a class variable \"letters\"\n",
    "print(Thing2.letters)\n",
    "\n",
    "class Thing3:\n",
    "    def __init__(self):\n",
    "        self.letters = 'xyz' # assign 'xyz' to an instance (object) variable \"letters\"\n",
    "\n",
    "# The variable letters belongs to any objects made from Thing3, not the Thing3 class ifself:\n",
    "something = Thing3()\n",
    "print(something.letters)"
   ]
  },
  {
   "cell_type": "code",
   "execution_count": 21,
   "metadata": {},
   "outputs": [
    {
     "name": "stdout",
     "output_type": "stream",
     "text": [
      "Hydrogen\n",
      "name= Hydrogen , symbol= H , number= 1\n"
     ]
    }
   ],
   "source": [
    "# 6.4 - 6.6\n",
    "class Element:\n",
    "    def __init__(self, name, symbol, number):\n",
    "        self.name = name\n",
    "        self.symbol = symbol\n",
    "        self.number = number\n",
    "    \n",
    "    def dump(self):\n",
    "        print('name=', self.name, ', symbol=', self.symbol, ', number=', self.number)\n",
    "\n",
    "# create an object called 'hydrogen' of the 'Element' class\n",
    "hydrogen = Element('Hydrogen', 'H', 1)\n",
    "\n",
    "el_dict = {'name': 'Hydrogen', 'symbol': 'H', 'number': 1}\n",
    "hydrogen = Element(**el_dict)\n",
    "print(hydrogen.name)\n",
    "\n",
    "hydrogen.dump()\n"
   ]
  },
  {
   "cell_type": "code",
   "execution_count": 22,
   "metadata": {},
   "outputs": [
    {
     "name": "stdout",
     "output_type": "stream",
     "text": [
      "<__main__.Element object at 0x7fc567533fa0>\n",
      "name=Hydrogen, symbol=H, number=1\n"
     ]
    }
   ],
   "source": [
    "# 6.7 - 6.8\n",
    "print(hydrogen)\n",
    "\n",
    "# __str__() is a special method in Python that is called by the str() built-in function to get a string representation of an object. \n",
    "# When str() is called on an object, it will call the object's __str__() method and return the result as a string.\n",
    "class Element:\n",
    "    def __init__(self, name, symbol, number):\n",
    "        self.name = name\n",
    "        self.symbol = symbol\n",
    "        self.number = number\n",
    "    \n",
    "    def __str__(self):\n",
    "        return 'name={}, symbol={}, number={}'.format(self.name, self.symbol, self.number)\n",
    "\n",
    "hydrogen = Element(**el_dict)\n",
    "print(hydrogen)\n"
   ]
  },
  {
   "cell_type": "code",
   "execution_count": 23,
   "metadata": {},
   "outputs": [
    {
     "name": "stdout",
     "output_type": "stream",
     "text": [
      "I have many attachments: \n",
      "My laser, to disintegrate\n",
      "My claw, to crush\n",
      "My smartphone, to ring\n"
     ]
    }
   ],
   "source": [
    "# 6.10\n",
    "# Laser, Claw, and SmartPhone are all simple classes with a single method called does() that returns a string describing what the object does. \n",
    "# Laser does 'disintegrate', Claw does 'crush', and SmartPhone does 'ring'.\n",
    "class Laser:\n",
    "    def does(self):\n",
    "        return 'disintegrate'\n",
    "    \n",
    "class Claw:\n",
    "    def does(self):\n",
    "        return 'crush'\n",
    "    \n",
    "class SmartPhone:\n",
    "    def does(self):\n",
    "        return 'ring'\n",
    "\n",
    "# The Robot class is more complex. It has an init() method that creates instances of Laser, Claw, and SmartPhone, \n",
    "# and stores them as attributes of the Robot instance. \n",
    "# It also has a does() method that returns a string describing what the Robot can do using its attachments.   \n",
    "class Robot:\n",
    "    def __init__(self):\n",
    "        self.laser = Laser()\n",
    "        self.claw = Claw()\n",
    "        self.smartphone = SmartPhone()\n",
    "    def does(self):\n",
    "        return '''I have many attachments: \n",
    "My laser, to {}\n",
    "My claw, to {}\n",
    "My smartphone, to {}'''.format(self.laser.does(),\n",
    "                               self.claw.does(),\n",
    "                               self.smartphone.does())\n",
    "\n",
    "# The code creates an instance of Robot called robbie, and calls its does() method, \n",
    "# which prints a string describing what robbie can do using its attachments.\n",
    "robbie = Robot()\n",
    "print(robbie.does())"
   ]
  },
  {
   "cell_type": "code",
   "execution_count": 24,
   "metadata": {},
   "outputs": [
    {
     "data": {
      "text/plain": [
       "['the', 'the', 'the', 'the', 'the', 'trees', 'to', 'thee', 'that', 'to']"
      ]
     },
     "execution_count": 24,
     "metadata": {},
     "output_type": "execute_result"
    }
   ],
   "source": [
    "#7.7 Regular expressions come in very handy when we are working with text. \n",
    "import re\n",
    "\n",
    "txt = '''\n",
    "We have seen the Queen of cheese,\n",
    "Laying quietly at your ease,\n",
    "Gently fanned by evening breeze --\n",
    "Thy fair form no flies dare seize.ß\n",
    "\n",
    "All gaily dressed soon you'll go\n",
    "To the great Provincial Show,\n",
    "To be admired by many a beau\n",
    "In the city of Toronto.\n",
    "\n",
    "Cows numerous as a swarm of bees --\n",
    "Or as the leaves upon the trees --\n",
    "It did require to make thee please,\n",
    "And stand unrivalled Queen of Cheese.ß\n",
    "\n",
    "May you not receive a scar as\n",
    "We have heard that Mr. Harris\n",
    "Intends to send you off as far as\n",
    "The great World's show at Paris.\n",
    "'''\n",
    "\n",
    "# The \\b means to begin at a boundary between a word and a nonword. Use this to specify either the beginning or end of a word\n",
    "# The letter 't' is the first letter of the words we are looking for.\n",
    "# The \\w means any word character, which includes letters, digits, and underscores (_)\n",
    "# The * means zero or more of these word characters.\n",
    "# Together, this finds words that begin with \"t\", including \"t\" itself. \n",
    "pat = r'\\bt\\w*'\n",
    "re.findall(pat, txt)\n",
    "\n"
   ]
  },
  {
   "attachments": {},
   "cell_type": "markdown",
   "metadata": {},
   "source": [
    "`if __name__ == \"__main__\"` is a common conditional statement used in Python scripts that are intended to be run as standalone programs, as opposed to being imported as a module into another script.\n",
    "\n",
    "By using the `if __name__ == \"__main__\"` statement, you are checking whether the script is being run directly or being imported as a module. If it is being run directly, the code inside the if statement will be executed. If it is being imported as a module, the code inside the if statement will be skipped."
   ]
  },
  {
   "cell_type": "code",
   "execution_count": 25,
   "metadata": {},
   "outputs": [
    {
     "name": "stdout",
     "output_type": "stream",
     "text": [
      "Process 2462 says: I'm the main program\n"
     ]
    },
    {
     "name": "stdout",
     "output_type": "stream",
     "text": [
      "Process 2469 says: I'm function 0\n",
      "Process 2470 says: I'm function 1\n",
      "Process 2471 says: I'm function 2\n",
      "Process 2472 says: I'm function 3\n"
     ]
    }
   ],
   "source": [
    "# Multiprocessing\n",
    "import multiprocessing\n",
    "import worker\n",
    "\n",
    "# the 'do_this' and 'whoami' functions are defined in the worker module, \n",
    "# which is imported into the main module. \n",
    "# The main module then calls these functions as needed to start new processes.\n",
    "if __name__ == \"__main__\":\n",
    "    worker.whoami(\"I'm the main program\")\n",
    "    for n in range(4):\n",
    "        p = multiprocessing.Process(target=worker.do_this,\n",
    "                                    args=(\"I'm function {}\".format(n),))\n",
    "        p.start()\n"
   ]
  },
  {
   "attachments": {},
   "cell_type": "markdown",
   "metadata": {},
   "source": [
    "### Notes from Fundamentals of Python Programming (by Richard Halterman)"
   ]
  },
  {
   "cell_type": "code",
   "execution_count": 29,
   "metadata": {},
   "outputs": [
    {
     "name": "stdout",
     "output_type": "stream",
     "text": [
      "1.0 2 1 9\n"
     ]
    }
   ],
   "source": [
    "# x devided by y, floor of x divided by y, remainder of x divided by y, x raised to y power\n",
    "print(3/3, 5//2, 3%2, 3**2)"
   ]
  },
  {
   "attachments": {},
   "cell_type": "markdown",
   "metadata": {},
   "source": [
    "The while loop is ideal for indefinite loops. The while statement executes until its condition becomes false. \n",
    "\n",
    "The for loop is a definite loop, which iterates over a sequence of values. "
   ]
  },
  {
   "cell_type": "code",
   "execution_count": 4,
   "metadata": {},
   "outputs": [
    {
     "name": "stdout",
     "output_type": "stream",
     "text": [
      "enter positive numbers to sum, negative number ends list\n",
      "Sum = 10\n"
     ]
    }
   ],
   "source": [
    "# Exit the loop if input <0\n",
    "sum = 0\n",
    "print(\"enter positive numbers to sum, negative number ends list\")\n",
    "\n",
    "while True:\n",
    "    entry = int(input())\n",
    "    if entry < 0:\n",
    "        break\n",
    "    sum += entry\n",
    "print(\"Sum =\", sum)"
   ]
  },
  {
   "cell_type": "code",
   "execution_count": 3,
   "metadata": {},
   "outputs": [
    {
     "name": "stdout",
     "output_type": "stream",
     "text": [
      "1.0 squared is 1.0\n",
      "5.0 squared is 25.0\n",
      "3.4 squared is 11.559999999999999\n",
      "3.023529411764706 squared is 9.141730103806228\n",
      "3.00009155413138 squared is 9.00054933317044\n",
      "3.000000001396984 squared is 9.000000008381903\n",
      "Square root of 9.0 = 3.0\n"
     ]
    }
   ],
   "source": [
    "# compute square root\n",
    "val = float(input('Enter number to compute its square root: '))\n",
    "\n",
    "# Compute a provisional square root\n",
    "root = 1.0\n",
    "\n",
    "# How far off is our provisional root?\n",
    "diff = root**2 - val\n",
    "\n",
    "# Loop until the provisional is close enough to the actual root\n",
    "while diff > 0.000000001 or diff < -0.000000001:\n",
    "    print(root, 'squared is', root**2) # report how we are doing\n",
    "    root = (root + val/root)/2 # compute new provisional root\n",
    "    # How bad is our current approximation?\n",
    "    diff = root**2 - val\n",
    "\n",
    "# Report approximate square root\n",
    "print('Square root of', val, '=', root)"
   ]
  },
  {
   "cell_type": "code",
   "execution_count": 6,
   "metadata": {},
   "outputs": [
    {
     "name": "stdout",
     "output_type": "stream",
     "text": [
      "2 3 5 7 11 13 17 19 23 29 31 37 41 43 47 53 59 61 67 71 73 79 83 89 \n"
     ]
    }
   ],
   "source": [
    "# print primes\n",
    "max_value = int(input(\"Display primes up to what value? \"))\n",
    "value = 2 # smallest prime number\n",
    "while value <= max_value:\n",
    "    # see if value is prime\n",
    "    is_prime = True # provisionally, value is prime\n",
    "    # try all possible factors from 2 to value -1\n",
    "    trial_factor = 2\n",
    "    while trial_factor < value:\n",
    "        if value % trial_factor == 0:\n",
    "            is_prime = False # Found a factor\n",
    "            break            # No need to continue; it is NOT prime\n",
    "        trial_factor += 1    # Try the next potential factor\n",
    "    \n",
    "    if is_prime:\n",
    "        print(value, end=' ')\n",
    "    value += 1               # Try the next potential prime number\n",
    "print()"
   ]
  },
  {
   "attachments": {},
   "cell_type": "markdown",
   "metadata": {},
   "source": [
    "#### Recursion"
   ]
  },
  {
   "cell_type": "code",
   "execution_count": 17,
   "metadata": {},
   "outputs": [
    {
     "name": "stdout",
     "output_type": "stream",
     "text": [
      "1 1 24 720\n",
      "1 1 24 720\n"
     ]
    }
   ],
   "source": [
    "# factorial function\n",
    "def factorial(n):\n",
    "    \"\"\"\n",
    "    Compute n!\n",
    "    Returns the factorial of n.\n",
    "    \"\"\"\n",
    "    if n == 0:\n",
    "        return 1\n",
    "    else:\n",
    "        return n * factorial(n-1)\n",
    "\n",
    "print(factorial(0), factorial(1), factorial(4), factorial(6))\n",
    "\n",
    "# non recursion factorial:\n",
    "def factorial_2(n):\n",
    "    product = 1\n",
    "    for i in range(1,n+1):\n",
    "        product = product*i\n",
    "        i -= 1\n",
    "    \n",
    "    return product\n",
    "print(factorial_2(0), factorial_2(1), factorial_2(4), factorial_2(6))"
   ]
  },
  {
   "cell_type": "code",
   "execution_count": null,
   "metadata": {},
   "outputs": [],
   "source": [
    "# Fibonacci sequence 0,1,1,2,3,5,8,13,21,34,55,89,144\n",
    "# The below example is to compute the nth Fibonacci number. \n",
    "# A recursive function to compute the nth Fibonacci number follows easily from the definition of the Fibonacci sequence. \n",
    "def fibonacci(n):\n",
    "    \"\"\"Returns the nth Fibonacci number.\"\"\"\n",
    "    if n <= 0:\n",
    "        return 0\n",
    "    elif n == 1:\n",
    "        return 1\n",
    "    else:\n",
    "        return fibonacci(n-2) + fibonacci(n-1)"
   ]
  },
  {
   "cell_type": "code",
   "execution_count": 30,
   "metadata": {},
   "outputs": [
    {
     "name": "stdout",
     "output_type": "stream",
     "text": [
      "gcd of 6 and 2 is 2\n",
      "gcd of 6 and 2 is 2\n",
      " \n",
      "gcd of 6 and 3 is 3\n",
      "gcd of 6 and 3 is 3\n",
      " \n",
      "gcd of 7 and 2 is 1\n",
      "gcd of 7 and 2 is 1\n",
      " \n",
      "gcd of 7 and 3 is 1\n",
      "gcd of 7 and 3 is 1\n",
      " \n",
      "gcd of 8 and 2 is 2\n",
      "gcd of 8 and 2 is 2\n",
      " \n",
      "gcd of 8 and 3 is 1\n",
      "gcd of 8 and 3 is 1\n",
      " \n"
     ]
    }
   ],
   "source": [
    "# Find greatest common divisor 寻找最大公约数\n",
    "def gcd(m, n):\n",
    "    \"\"\"\n",
    "    Uses Euclid's method to compute the greatest common divisor of m and n.\n",
    "    Returns the GCD of m and n.\n",
    "    \"\"\"\n",
    "    if n == 0:\n",
    "        return m\n",
    "    else:\n",
    "        return gcd(n, m % n)\n",
    "    \n",
    "def iterative_gcd(num1, num2):\n",
    "    # determine the smaller of num1 and num2\n",
    "    min = num1 if num1 < num2 else num2\n",
    "    # 1 is definitely a common factor to all integers\n",
    "    largest_factor = 1\n",
    "    for i in range(1, min+1):\n",
    "        if num1 % i == 0 and num2 % i == 0:\n",
    "            largest_factor = i # Found largest factor\n",
    "    return largest_factor\n",
    "\n",
    "for num1 in range(6,9):\n",
    "    for num2 in range(2, 4):\n",
    "        print('gcd of', num1, 'and', num2, 'is', gcd(num1, num2))\n",
    "        print('gcd of', num1, 'and', num2, 'is', iterative_gcd(num1, num2))\n",
    "        print(' ')"
   ]
  },
  {
   "cell_type": "code",
   "execution_count": null,
   "metadata": {},
   "outputs": [],
   "source": []
  }
 ],
 "metadata": {
  "kernelspec": {
   "display_name": "Python 3 (ipykernel)",
   "language": "python",
   "name": "python3"
  },
  "language_info": {
   "codemirror_mode": {
    "name": "ipython",
    "version": 3
   },
   "file_extension": ".py",
   "mimetype": "text/x-python",
   "name": "python",
   "nbconvert_exporter": "python",
   "pygments_lexer": "ipython3",
   "version": "3.10.9"
  }
 },
 "nbformat": 4,
 "nbformat_minor": 2
}
